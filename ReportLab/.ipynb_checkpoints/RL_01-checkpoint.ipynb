{
 "cells": [
  {
   "cell_type": "code",
   "execution_count": 1,
   "metadata": {
    "collapsed": false
   },
   "outputs": [],
   "source": [
    "import time\n",
    "from reportlab.lib.enums import TA_JUSTIFY\n",
    "from reportlab.lib.pagesizes import letter\n",
    "from reportlab.platypus import SimpleDocTemplate, Paragraph, Spacer, Image\n",
    "from reportlab.lib.styles import getSampleStyleSheet, ParagraphStyle\n",
    "from reportlab.lib.units import inch\n",
    " \n",
    "doc = SimpleDocTemplate(\"form_letter.pdf\",pagesize=letter,\n",
    "                        rightMargin=72,leftMargin=72,\n",
    "                        topMargin=72,bottomMargin=18)\n",
    "Story=[]\n",
    "logo = '/Users/Lampe/GrantNo456417/CurrentTesting/Permeability/\\\n",
    "90_04/Perm/PFO/PFO_90-04_PFO_10psi.png'\n",
    "\n",
    "magName = \"Pythonista\"\n",
    "issueNum = 12\n",
    "subPrice = \"99.00\"\n",
    "limitedDate = \"03/05/2010\"\n",
    "freeGift = \"tin foil hat\"\n",
    " \n",
    "formatted_time = time.ctime()\n",
    "full_name = \"Mike Driscoll\"\n",
    "address_parts = [\"411 State St.\", \"Marshalltown, IA 50158\"]\n",
    " \n",
    "im = Image(logo, 2*inch, 2*inch)\n",
    "Story.append(im)\n",
    " \n",
    "styles=getSampleStyleSheet()\n",
    "styles.add(ParagraphStyle(name='Justify', alignment=TA_JUSTIFY))\n",
    "ptext = '<font size=12>%s</font>' % formatted_time\n",
    " \n",
    "Story.append(Paragraph(ptext, styles[\"Normal\"]))\n",
    "Story.append(Spacer(1, 12))\n",
    " \n",
    "# Create return address\n",
    "ptext = '<font size=12>%s</font>' % full_name\n",
    "Story.append(Paragraph(ptext, styles[\"Normal\"]))       \n",
    "for part in address_parts:\n",
    "    ptext = '<font size=12>%s</font>' % part.strip()\n",
    "    Story.append(Paragraph(ptext, styles[\"Normal\"]))   \n",
    " \n",
    "Story.append(Spacer(1, 12))\n",
    "ptext = '<font size=12>Dear %s:</font>' % full_name.split()[0].strip()\n",
    "Story.append(Paragraph(ptext, styles[\"Normal\"]))\n",
    "Story.append(Spacer(1, 12))\n",
    " \n",
    "ptext = '<font size=12>We would like to welcome you to our subscriber base for %s Magazine! \\\n",
    "        You will receive %s issues at the excellent introductory price of $%s. Please respond by\\\n",
    "        %s to start receiving your subscription and get the following free gift: %s.</font>' % (magName, \n",
    "                                                                                                issueNum,\n",
    "                                                                                                subPrice,\n",
    "                                                                                                limitedDate,\n",
    "                                                                                                freeGift)\n",
    "Story.append(Paragraph(ptext, styles[\"Justify\"]))\n",
    "Story.append(Spacer(1, 12))\n",
    " \n",
    " \n",
    "ptext = '<font size=12>Thank you very much and we look forward to serving you.</font>'\n",
    "Story.append(Paragraph(ptext, styles[\"Justify\"]))\n",
    "Story.append(Spacer(1, 12))\n",
    "ptext = '<font size=12>Sincerely,</font>'\n",
    "Story.append(Paragraph(ptext, styles[\"Normal\"]))\n",
    "Story.append(Spacer(1, 48))\n",
    "ptext = '<font size=12>Ima Sucker</font>'\n",
    "Story.append(Paragraph(ptext, styles[\"Normal\"]))\n",
    "Story.append(Spacer(1, 12))\n",
    "doc.build(Story)"
   ]
  },
  {
   "cell_type": "markdown",
   "metadata": {},
   "source": [
    "Figures"
   ]
  },
  {
   "cell_type": "code",
   "execution_count": 11,
   "metadata": {
    "collapsed": false
   },
   "outputs": [],
   "source": [
    "fpath01='/Users/Lampe/GrantNo456417/CurrentTesting/Permeability/PFO_90-04_PFO_29psi.png'\n",
    "# fig01 = PdfReader(open(\"fpath01\", 'rb'))\n",
    "test_no = '90-04'\n",
    "test_type = 'PFO'\n",
    "author = 'BCL'\n",
    "formatted_time = time.ctime()"
   ]
  },
  {
   "cell_type": "code",
   "execution_count": 4,
   "metadata": {
    "collapsed": false
   },
   "outputs": [],
   "source": [
    "fpath01='/Users/Lampe/GrantNo456417/CurrentTesting/Permeability/PFO_90-04_PFO_29psi.pdf'\n",
    "first = 1\n",
    "last = 1\n",
    "go(fpath01, first, last)"
   ]
  },
  {
   "cell_type": "code",
   "execution_count": null,
   "metadata": {
    "collapsed": true
   },
   "outputs": [],
   "source": [
    "if __name__ == '__main__':\n",
    "    inpfn, firstpage, lastpage = sys.argv[1:]\n",
    "    go(inpfn, firstpage, lastpage)"
   ]
  }
 ],
 "metadata": {
  "kernelspec": {
   "display_name": "Python 2",
   "language": "python",
   "name": "python2"
  },
  "language_info": {
   "codemirror_mode": {
    "name": "ipython",
    "version": 2
   },
   "file_extension": ".py",
   "mimetype": "text/x-python",
   "name": "python",
   "nbconvert_exporter": "python",
   "pygments_lexer": "ipython2",
   "version": "2.7.11"
  }
 },
 "nbformat": 4,
 "nbformat_minor": 0
}
