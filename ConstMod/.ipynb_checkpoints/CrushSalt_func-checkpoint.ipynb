{
 "cells": [
  {
   "cell_type": "markdown",
   "metadata": {},
   "source": [
    "The following is a python implementation of the constitutive model developed by Gary Callahan"
   ]
  },
  {
   "cell_type": "code",
   "execution_count": 1,
   "metadata": {
    "collapsed": true
   },
   "outputs": [],
   "source": [
    "import numpy as np"
   ]
  },
  {
   "cell_type": "markdown",
   "metadata": {},
   "source": [
    "# Define Material Properties "
   ]
  },
  {
   "cell_type": "code",
   "execution_count": 2,
   "metadata": {
    "collapsed": true
   },
   "outputs": [],
   "source": [
    "flow_parm = np.zeros(5)\n",
    "cons_parm = np.zeros(11)\n",
    "md_parm = np.zeros(17)"
   ]
  },
  {
   "cell_type": "markdown",
   "metadata": {},
   "source": [
    "## Flow Parameters\n",
    "Used for shear stress driven deformation when fractional density is less than unity."
   ]
  },
  {
   "cell_type": "code",
   "execution_count": null,
   "metadata": {
    "collapsed": true
   },
   "outputs": [],
   "source": []
  },
  {
   "cell_type": "markdown",
   "metadata": {},
   "source": [
    "## Consolidation Parameters\n",
    "Used for mean stress driven deformation when the fractional density is less than unity"
   ]
  },
  {
   "cell_type": "code",
   "execution_count": null,
   "metadata": {
    "collapsed": true
   },
   "outputs": [],
   "source": []
  },
  {
   "cell_type": "markdown",
   "metadata": {},
   "source": [
    "## Creep Parameters\n",
    "Used to describe isochloric deformation when the fractional density is at unity"
   ]
  },
  {
   "cell_type": "code",
   "execution_count": null,
   "metadata": {
    "collapsed": true
   },
   "outputs": [],
   "source": [
    "  A1 \t\t<- 8.386e22\n",
    "  A2 \t\t<- 9.672e12\n",
    "  Q1R \t<- 12581\n",
    "  Q2R \t<- 5033\n",
    "  N1 \t\t<- 5.5\n",
    "  N2 \t\t<- 5.0\n",
    "  B1 \t\t<- 6.0856e6\n",
    "  B2 \t\t<- 3.034e-2\n",
    "  Q \t\t<- 5335\n",
    "  S0 \t\t<- 20.57\n",
    "  M \t\t<- 3\n",
    "  K0 \t\t<- 6.275e5\n",
    "  C \t\t<- 9.198e-3\n",
    "  ALPHA <- -17.37\n",
    "  BETA \t<- -7.738\n",
    "  DELTA <- 0.58\n",
    "  MU \t\t<- 12400"
   ]
  }
 ],
 "metadata": {
  "kernelspec": {
   "display_name": "Python 2",
   "language": "python",
   "name": "python2"
  },
  "language_info": {
   "codemirror_mode": {
    "name": "ipython",
    "version": 2
   },
   "file_extension": ".py",
   "mimetype": "text/x-python",
   "name": "python",
   "nbconvert_exporter": "python",
   "pygments_lexer": "ipython2",
   "version": "2.7.11"
  }
 },
 "nbformat": 4,
 "nbformat_minor": 0
}
