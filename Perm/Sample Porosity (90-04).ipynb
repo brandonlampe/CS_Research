{
 "cells": [
  {
   "cell_type": "code",
   "execution_count": 1,
   "metadata": {
    "collapsed": true
   },
   "outputs": [],
   "source": [
    "import math\n",
    "import numpy as np\n",
    "import numpy.linalg as LA\n",
    "import matplotlib.pyplot as plt\n",
    "import sys\n",
    "import CoolProp as CP\n",
    "from CoolProp.CoolProp import PropsSI\n",
    "\n",
    "sys.path.append('/Users/Lampe/PyScripts/CS_Research')\n",
    "import ResearchFunc as rf\n",
    "%matplotlib inline"
   ]
  },
  {
   "cell_type": "code",
   "execution_count": 2,
   "metadata": {
    "collapsed": true
   },
   "outputs": [],
   "source": [
    "R = 8314\n",
    "Mn2 = 28.0134 # molecular weight of nitrogen (kg/kg-mole)\n",
    "Mair = 28.966 # molecular weight of air (kg/kg-mole)"
   ]
  },
  {
   "cell_type": "code",
   "execution_count": 3,
   "metadata": {
    "collapsed": true
   },
   "outputs": [],
   "source": [
    "T = 24.7 + 273.15\n",
    "Vus_ml = 39.78 # volume upstream of sample w/o blue reservoir\n",
    "Vusm_ml = 23.16 # volume upstream between blue reservoir and lower valve\n",
    "Vds_ml = 25.08 # volume downstream of sample\n",
    "pusm_psi_0 = 20 #initial gauge pressure\n",
    "Patm_psi = 12.09 #abs\n",
    "pf_psi = 4# final gauge pressure"
   ]
  },
  {
   "cell_type": "markdown",
   "metadata": {},
   "source": [
    "convert pressures to absolute (Pa)"
   ]
  },
  {
   "cell_type": "code",
   "execution_count": 4,
   "metadata": {
    "collapsed": false
   },
   "outputs": [],
   "source": [
    "Patm = Patm_psi*(101.325e3/14.6959)\n",
    "Pusm = pusm_psi_0*(101.325e3/14.6959)+Patm\n",
    "Pf = pf_psi*(101.325e3/14.6959)+Patm"
   ]
  },
  {
   "cell_type": "markdown",
   "metadata": {},
   "source": [
    "convert volumes to m3"
   ]
  },
  {
   "cell_type": "code",
   "execution_count": 5,
   "metadata": {
    "collapsed": false
   },
   "outputs": [],
   "source": [
    "Vus = Vus_ml/100**3 # volume upstream of sample w/o blue reservoir\n",
    "Vusm = Vusm_ml/100**3 # volume upstream between blue reservoir and lower valve\n",
    "Vds = Vds_ml/100**3\n",
    "Vuse = Vus - Vusm"
   ]
  },
  {
   "cell_type": "markdown",
   "metadata": {},
   "source": [
    "total Initial mass (kg)"
   ]
  },
  {
   "cell_type": "code",
   "execution_count": 6,
   "metadata": {
    "collapsed": true
   },
   "outputs": [],
   "source": [
    "m_usm0 = Pusm*Vusm*Mn2/(R*T)\n",
    "m_use0 = Patm*Vuse*Mair/(R*T)\n",
    "m_ds0 = Patm*Vds*Mair/(R*T)\n",
    "m_mm0 = m_usm0 + m_use0 + m_ds0 # mass of all gas except for in pores"
   ]
  },
  {
   "cell_type": "code",
   "execution_count": 7,
   "metadata": {
    "collapsed": true
   },
   "outputs": [],
   "source": [
    "m_usm1 = Pf*Vusm*Mn2/(R*T)\n",
    "m_use1 = Pf*Vuse*Mn2/(R*T)\n",
    "m_ds1 = Pf*Vds*Mn2/(R*T)\n",
    "m_mm1 = m_usm1 + m_use1 + m_ds1 # mass of all gas except for in pores"
   ]
  },
  {
   "cell_type": "code",
   "execution_count": 8,
   "metadata": {
    "collapsed": false
   },
   "outputs": [],
   "source": [
    "LHS = m_mm0 - m_mm1\n",
    "RHS = (Pf*Mn2-Patm*Mair)/(R*T)\n",
    "Vp = LHS/RHS # pore volume in m3\n",
    "Vp_ml = Vp*100**3 #pore volume in mL"
   ]
  },
  {
   "cell_type": "markdown",
   "metadata": {},
   "source": [
    "Volume of pore space in mL"
   ]
  },
  {
   "cell_type": "code",
   "execution_count": 9,
   "metadata": {
    "collapsed": false
   },
   "outputs": [
    {
     "name": "stdout",
     "output_type": "stream",
     "text": [
      "61.5523348646\n"
     ]
    }
   ],
   "source": [
    "print Vp_ml"
   ]
  },
  {
   "cell_type": "markdown",
   "metadata": {},
   "source": [
    "Porosity of Sample"
   ]
  },
  {
   "cell_type": "code",
   "execution_count": 10,
   "metadata": {
    "collapsed": false
   },
   "outputs": [
    {
     "name": "stdout",
     "output_type": "stream",
     "text": [
      "0.148318879192\n"
     ]
    }
   ],
   "source": [
    "bulk_sample = 415#604 # bulk volume of sample\n",
    "por = Vp_ml/bulk_sample\n",
    "print por"
   ]
  },
  {
   "cell_type": "code",
   "execution_count": 26,
   "metadata": {
    "collapsed": false
   },
   "outputs": [
    {
     "name": "stdout",
     "output_type": "stream",
     "text": [
      "415.591144799\n"
     ]
    }
   ],
   "source": [
    "area_el = np.pi*7.35*8.08\n",
    "h = 8.91\n",
    "v_ml = area_el*h/4\n",
    "print(v_ml)"
   ]
  },
  {
   "cell_type": "code",
   "execution_count": null,
   "metadata": {
    "collapsed": true
   },
   "outputs": [],
   "source": []
  }
 ],
 "metadata": {
  "kernelspec": {
   "display_name": "Python 2",
   "language": "python",
   "name": "python2"
  },
  "language_info": {
   "codemirror_mode": {
    "name": "ipython",
    "version": 2
   },
   "file_extension": ".py",
   "mimetype": "text/x-python",
   "name": "python",
   "nbconvert_exporter": "python",
   "pygments_lexer": "ipython2",
   "version": "2.7.11"
  }
 },
 "nbformat": 4,
 "nbformat_minor": 0
}
